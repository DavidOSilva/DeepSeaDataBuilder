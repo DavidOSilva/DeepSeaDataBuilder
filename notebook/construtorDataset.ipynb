{
 "cells": [
  {
   "cell_type": "code",
   "execution_count": 1,
   "id": "3785b7bc",
   "metadata": {},
   "outputs": [],
   "source": [
    "import numpy as np\n",
    "from python.auxiliares import *\n",
    "from python.etapas import *\n",
    "from parametros import * \n",
    "\n",
    "for tamanho in parametros['geral']['tamanhos']:\n",
    "    hdf5Fatiados = recortarEmFatias(tamanho=tamanho)\n",
    "    hdf5Filtrados = separarFatiasPorClasses(hdf5Fatiados, tamanho)\n",
    "    if parametros['geral']['realizarAumento']: hdf5Filtrados = aumentoDeDadosHDF5(hdf5Filtrados, tamanho)\n",
    "    datasetHDF5 = criarConjuntoDeDados(hdf5Filtrados, tamanho)\n",
    "    deletarPastas([parametros['diretorios']['temporarios']])"
   ]
  },
  {
   "cell_type": "code",
   "execution_count": 2,
   "id": "d834fb66-3fcd-4a80-b9a8-d6849f275c71",
   "metadata": {
    "scrolled": true
   },
   "outputs": [
    {
     "name": "stdout",
     "output_type": "stream",
     "text": [
      "\u001b[32mCONJUNTO DE DADOS SALVO: /mnt/camobi_process/david/DATASETs/2048/CONSTRUTOR[OIL=50.0_WIND=4.58_SHIP=45.42][2048][oil++][ship++][wind++].h5                                                                                \u001b[0m\r"
     ]
    }
   ],
   "source": [
    "for tamanho in parametros['geral']['tamanhos']:\n",
    "    hdf5Fatiados = recortarEmFatias(tamanho=tamanho)\n",
    "    hdf5Filtrados = separarFatiasPorClasses(hdf5Fatiados, tamanho)\n",
    "    if parametros['geral']['realizarAumento']: hdf5Filtrados = aumentoDeDadosHDF5(hdf5Filtrados, tamanho)\n",
    "    datasetHDF5 = criarConjuntoDeDados(hdf5Filtrados, tamanho)\n",
    "    deletarPastas([parametros['diretorios']['temporarios']])"
   ]
  }
 ],
 "metadata": {
  "kernelspec": {
   "display_name": "Python 3 (ipykernel)",
   "language": "python",
   "name": "python3"
  },
  "language_info": {
   "codemirror_mode": {
    "name": "ipython",
    "version": 3
   },
   "file_extension": ".py",
   "mimetype": "text/x-python",
   "name": "python",
   "nbconvert_exporter": "python",
   "pygments_lexer": "ipython3",
   "version": "3.11.5"
  },
  "widgets": {
   "application/vnd.jupyter.widget-state+json": {
    "state": {},
    "version_major": 2,
    "version_minor": 0
   }
  }
 },
 "nbformat": 4,
 "nbformat_minor": 5
}
