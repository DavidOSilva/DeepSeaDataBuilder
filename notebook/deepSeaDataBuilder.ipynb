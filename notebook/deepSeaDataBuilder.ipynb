{
 "cells": [
  {
   "cell_type": "code",
   "execution_count": null,
   "id": "3785b7bc",
   "metadata": {},
   "outputs": [],
   "source": [
    "from python.steps import *\n",
    "from python.filesManager import *\n",
    "from parametros import * "
   ]
  },
  {
   "cell_type": "code",
   "execution_count": null,
   "id": "d834fb66-3fcd-4a80-b9a8-d6849f275c71",
   "metadata": {
    "scrolled": true
   },
   "outputs": [],
   "source": [
    "for tamanho in parametros['geral']['tamanhos']:\n",
    "    npzConvertidos = converterEmNpz()\n",
    "    hdf5Fatiados = recortarEmFatias(tamanho, npzConvertidos)\n",
    "    hdf5Filtrados = separarFatiasPorClasses(hdf5Fatiados, tamanho)\n",
    "    hdf5Embaralhados = embaralharFiltrados(hdf5Filtrados, tamanho)\n",
    "    hdf5Aumentado, classesAumentadas = aumentoDeDadosHDF5(hdf5Embaralhados, tamanho)\n",
    "    datasetHDF5 = criarConjuntoDeDados(hdf5Aumentado, tamanho, classesAumentadas)\n",
    "    deletarPastas([parametros['diretorios']['temporarios']])\n",
    "    break"
   ]
  }
 ],
 "metadata": {
  "kernelspec": {
   "display_name": "Python 3 (ipykernel)",
   "language": "python",
   "name": "python3"
  },
  "language_info": {
   "codemirror_mode": {
    "name": "ipython",
    "version": 3
   },
   "file_extension": ".py",
   "mimetype": "text/x-python",
   "name": "python",
   "nbconvert_exporter": "python",
   "pygments_lexer": "ipython3",
   "version": "3.11.5"
  },
  "widgets": {
   "application/vnd.jupyter.widget-state+json": {
    "state": {},
    "version_major": 2,
    "version_minor": 0
   }
  }
 },
 "nbformat": 4,
 "nbformat_minor": 5
}
