{
 "cells": [
  {
   "cell_type": "code",
   "execution_count": 1,
   "id": "3785b7bc",
   "metadata": {},
   "outputs": [],
   "source": [
    "from python.steps import *\n",
    "from python.filesManager import *\n",
    "from parametros import * "
   ]
  },
  {
   "cell_type": "code",
   "execution_count": 2,
   "id": "d834fb66-3fcd-4a80-b9a8-d6849f275c71",
   "metadata": {
    "scrolled": true
   },
   "outputs": [
    {
     "name": "stdout",
     "output_type": "stream",
     "text": [
      "\u001b[32mCONJUNTO DE DADOS SALVO: /mnt/camobi_2/david/DATASETs/64/CONSTRUTOR[OIL=60.0_SHIP=0.18_WIND=14.82_LOOKALIKE=10.0_OCEAN=8.19_LAND=6.81][64][oil++][wind++].h5                                                                                \u001b[0m\r"
     ]
    }
   ],
   "source": [
    "for tamanho in parametros['geral']['tamanhos']:\n",
    "    hdf5Fatiados = recortarEmFatias(tamanho=tamanho)\n",
    "    hdf5Filtrados = separarFatiasPorClasses(hdf5Fatiados, tamanho)\n",
    "    hdf5Filtrados, classesAumentadas = aumentoDeDadosHDF5(hdf5Filtrados, tamanho)\n",
    "    datasetHDF5 = criarConjuntoDeDados(hdf5Filtrados, tamanho, classesAumentadas)\n",
    "    deletarPastas([parametros['diretorios']['temporarios']])"
   ]
  }
 ],
 "metadata": {
  "kernelspec": {
   "display_name": "Python 3 (ipykernel)",
   "language": "python",
   "name": "python3"
  },
  "language_info": {
   "codemirror_mode": {
    "name": "ipython",
    "version": 3
   },
   "file_extension": ".py",
   "mimetype": "text/x-python",
   "name": "python",
   "nbconvert_exporter": "python",
   "pygments_lexer": "ipython3",
   "version": "3.11.5"
  },
  "widgets": {
   "application/vnd.jupyter.widget-state+json": {
    "state": {},
    "version_major": 2,
    "version_minor": 0
   }
  }
 },
 "nbformat": 4,
 "nbformat_minor": 5
}
